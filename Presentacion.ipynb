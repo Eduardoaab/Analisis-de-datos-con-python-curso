{
 "cells": [
  {
   "cell_type": "markdown",
   "metadata": {},
   "source": [
    "# Python para analisis de datos "
   ]
  },
  {
   "cell_type": "markdown",
   "metadata": {},
   "source": [
    "## Software\n",
    "#### Anteriormente, el software estadístico estaba encasillado dentro de un nicho muy específico cuyo propósito principal era la automatización de los cálculos propios de la disciplina. Actualmente, los simples cálculos se obvian y se opta por empoderar las herramientas de software expandiendo su funcionalidad. En el mercado existen tres jugadores principales, sin embargo, existe una gran cantidad de alternativas (libres y comerciales) la mejor herramienta no existe, cada quien resolver´a los problemas que se le planteen de acuerdo a su necesidad, comodidad y recursos disponibles. En primera instancia, las herramientas deberán ser separadas por funcionalidad: \n",
    "#### 1:Herramienta de manipulación de datos: Necesaria para construir tablas analítica de datos o alguna estructura de datos (resumen, consulta) que fungirá como entrada, adicionalmente, para realizar la limpieza y pretratamiento de los datos.\n",
    "#### 2:Herramienta de visualización de datos: Aunque no indispensable, nos permite tener “primeras impresiones” de lo que muestran los datos.\n",
    "#### 3:Software estadístico: Necesario para realizar análisis estadístico básico,descriptivo e inferencial. \n",
    "#### 4:Software para machine learning: Necesario para generar modelos de soporte no supervisados y supervisados.\n",
    "#### 5:Software para presentaciones: Necesario para comunicar resultados, proyectos, hallazgos, estrategias, etc. \n",
    "#### 6:Hoja de cálculo: Herramienta hiperbásica de análisis, permite crear reportes, tablas pivote y gráficos de forma muy simple. \n",
    "#### 7:Lenguaje de programación: Una herramienta que se vuelve cada vez más imprescindible. Brinda la capacidad de automatizar tareas y expandir nuestras posibilidades mediante la creación de herramientas propias, enlace a API’s, encapsulamiento del conocimiento, integración tecnológica, etc.\n",
    "\n",
    "#### En el mercado hay tres suites que cubren las primeras 4 necesidades a cabalidad; dos son alternativas de software libre y una de ellas de software propietario: Python, R-Project y SAS respectivamente."
   ]
  },
  {
   "cell_type": "markdown",
   "metadata": {},
   "source": [
    "## Lenguaje de programación python\n",
    "\n"
   ]
  },
  {
   "cell_type": "markdown",
   "metadata": {},
   "source": [
    "## Breve historia \n",
    "#### Python es un poderoso lenguaje de programación multipropósito que se ha abierto paso en el mundo hasta convertirse en el más utilizado de acuerdo al IEEE. Fue creado en 1991 por Guido Van Rossum. El lenguaje es multiplataforma y está disponible para sistemas MacOS, Linux y Windows, pertenece a la comunidad open source y no tiene costo. Es un lenguaje fuertemente tipado, dinámicamente tipado e implicitamente tipado, sensible a mayúsculas y orientado a objetos."
   ]
  },
  {
   "cell_type": "code",
   "execution_count": null,
   "metadata": {},
   "outputs": [],
   "source": []
  }
 ],
 "metadata": {
  "kernelspec": {
   "display_name": "Python 3",
   "language": "python",
   "name": "python3"
  },
  "language_info": {
   "codemirror_mode": {
    "name": "ipython",
    "version": 3
   },
   "file_extension": ".py",
   "mimetype": "text/x-python",
   "name": "python",
   "nbconvert_exporter": "python",
   "pygments_lexer": "ipython3",
   "version": "3.6.4"
  }
 },
 "nbformat": 4,
 "nbformat_minor": 2
}
